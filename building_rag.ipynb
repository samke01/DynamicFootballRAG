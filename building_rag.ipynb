{
 "cells": [
  {
   "cell_type": "markdown",
   "metadata": {},
   "source": [
    "## RAG Pipeline\n",
    "The Pipeline enables answering queries related to the Bundesliga 2023/24 Season. In this example we focus on the game weeks 7 to 11 which totals to 5.\n",
    "\n",
    "### Pipeline functionality\n",
    "**1. Generation of Faiss Index**\n",
    "- Takes in a dictionary with keys `metadata` and `content`\n",
    "- The `content` is embedded with an openai model. Please ensure your `OPENAI_API_KEY` is set a system variable.\n",
    "- `metadata`, `content` and `embeddings` are stored in a faiss index which is saved. After one generation we can load constantly load it in.\n",
    "\n",
    "**2. Query Answering**\n",
    "\n",
    "This step implements multiple __advanced RAG__ techniques, such as:\n",
    "- Query Expansion\n",
    "- Vector Search\n",
    "- Reranking\n",
    "- Reordering"
   ]
  },
  {
   "cell_type": "code",
   "execution_count": null,
   "metadata": {},
   "outputs": [],
   "source": [
    "OPENAI_API_KEY = \"\" # TODO: PLEASE ENSURE THAT YOUR API KEY IS SET AS A SYSTEM ENVIRONMENT VARIABLE"
   ]
  },
  {
   "cell_type": "code",
   "execution_count": 1,
   "metadata": {},
   "outputs": [],
   "source": [
    "import numpy as np\n",
    "\n",
    "def filter_chunks_by_gameweeks(chunks, gameweek_list):\n",
    "    \"\"\"\n",
    "    Given a list of data chunks (each chunk is presumably a dict with \n",
    "    chunk[\"metadata\"][\"gameweek\"] defined), return only those that match \n",
    "    the specified gameweeks.\n",
    "    \n",
    "    :param chunks: List of chunk dictionaries.\n",
    "    :param gameweek_list: List (or set) of integers representing the \n",
    "                        gameweeks of interest.\n",
    "    :return: Filtered list of chunks for the supplied gameweeks.\n",
    "    \"\"\"\n",
    "    # Extract all gameweeks\n",
    "    gws = np.array([chunk[\"metadata\"][\"gameweek\"] for chunk in chunks])\n",
    "    \n",
    "    # Create a boolean mask of which chunks' gameweeks are in gameweek_list\n",
    "    interested = np.isin(gws, gameweek_list)\n",
    "    \n",
    "    # Apply the mask to filter out irrelevant chunks\n",
    "    filtered_chunks = list(np.array(chunks)[interested])\n",
    "    \n",
    "    return filtered_chunks"
   ]
  },
  {
   "cell_type": "markdown",
   "metadata": {},
   "source": [
    "We are interested in Gameweeks 7 to 11 - Indexing chunks data to relevant Gameweeks"
   ]
  },
  {
   "cell_type": "code",
   "execution_count": 2,
   "metadata": {},
   "outputs": [
    {
     "name": "stderr",
     "output_type": "stream",
     "text": [
      "c:\\Users\\samue\\anaconda3\\envs\\wa-event-data\\Lib\\site-packages\\tqdm\\auto.py:21: TqdmWarning: IProgress not found. Please update jupyter and ipywidgets. See https://ipywidgets.readthedocs.io/en/stable/user_install.html\n",
      "  from .autonotebook import tqdm as notebook_tqdm\n"
     ]
    }
   ],
   "source": [
    "from pipelines.rag import RAGPipeline\n",
    "\n",
    "regenerate_index = False #TODO: set to False if you want to load an existing index (this is the case for people who do not have access to the data)\n",
    "index_name = \"football_index_711\" #TODO: set the index name\n",
    "gameweeks = [7, 8, 9, 10, 11] #TODO: set the gameweeks to filter the data\n",
    "\n",
    "# Initialize the pipeline\n",
    "rag = RAGPipeline(openai_embedding_model=\"text-embedding-3-small\")\n",
    "\n",
    "if regenerate_index:\n",
    "    # Load the event chunks - list of dictionaries with entries metadata and content\n",
    "    chunks = rag.load_json(\"data\\event_chunks\\chunks.json\")\n",
    "    \n",
    "    # Filter chunks by gameweeks\n",
    "    chunks = filter_chunks_by_gameweeks(chunks, gameweeks)\n",
    "\n",
    "    # Create the FAISS index - we generate embeddings for each chunk and store them in the index\n",
    "    rag.create_faiss_index(chunks, index_name=index_name, save_embeddings=True)\n",
    "else:\n",
    "    # load the FAISS index\n",
    "    rag.load_faiss_index(index_name)"
   ]
  },
  {
   "cell_type": "code",
   "execution_count": 21,
   "metadata": {},
   "outputs": [],
   "source": [
    "# Defining the top k documents to retrieve and rerank\n",
    "# The pipeline will retrieve kwargs[\"retrieve\"] documents (in total 6*kwargs[\"retrieve\"] due to query expansion) and then rerank the kwargs[\"rerank\"] of retrieved documents\n",
    "\n",
    "# sort_by: \"rerank_score\" or \"rse_score\"\n",
    "kwargs={\"retrieve\": 200, \"top_k\": 250, \"threshold\": 0.2, \"reorder\": False, \"alpha\": 1, \"beta\": 1}"
   ]
  },
  {
   "cell_type": "code",
   "execution_count": 22,
   "metadata": {},
   "outputs": [
    {
     "name": "stderr",
     "output_type": "stream",
     "text": [
      "Batches: 100%|██████████| 13/13 [00:00<00:00, 20.65it/s]\n"
     ]
    },
    {
     "name": "stdout",
     "output_type": "stream",
     "text": [
      "User Query:\n"
     ]
    },
    {
     "data": {
      "text/markdown": [
       "**How many goals were scored after the 90th minute during Game Weeks 7 to 11?**"
      ],
      "text/plain": [
       "<IPython.core.display.Markdown object>"
      ]
     },
     "metadata": {},
     "output_type": "display_data"
    },
    {
     "name": "stdout",
     "output_type": "stream",
     "text": [
      "Generated Response:\n"
     ]
    },
    {
     "data": {
      "text/markdown": [
       "In Game Weeks 7 to 11, the following goals were scored after the 90th minute:\n",
       "\n",
       "1. Game Week 7: \n",
       "   - Hoffenheim 3:2 Werder Bremen (Goal at 91:32)\n",
       "   - Mainz 2:2 Borussia M.Gladbach (Goal at 95:47)\n",
       "\n",
       "2. Game Week 9:\n",
       "   - Mainz 2:2 Bochum (Goals at 96:10)\n",
       "\n",
       "3. Game Week 10:\n",
       "   - Bayern 4:2 FC Heidenheim (Goal at 95:8)\n",
       "\n",
       "4. Game Week 11:\n",
       "   - Eintracht Frankfurt 2:2 Werder Bremen (Goals at 95:0)\n",
       "   - Borussia M.Gladbach 4:0 Wolfsburg (Goals at 92:4)\n",
       "\n",
       "Total goals scored after the 90th minute during Game Weeks 7 to 11: 6 goals."
      ],
      "text/plain": [
       "<IPython.core.display.Markdown object>"
      ]
     },
     "metadata": {},
     "output_type": "display_data"
    }
   ],
   "source": [
    "from IPython.display import Markdown, display\n",
    "\n",
    "query = \"How many goals were scored after the 90th minute during Game Weeks 7 to 11?\" #TODO: set the query\n",
    "# Answer the query\n",
    "response, context, rerank_scores, similarity_scores, queries = rag.answer_query(query, kwargs=kwargs)\n",
    "print(\"User Query:\")\n",
    "display(Markdown(f\"**{query}**\"))\n",
    "print(\"Generated Response:\")\n",
    "display(Markdown(response))"
   ]
  },
  {
   "cell_type": "code",
   "execution_count": 10,
   "metadata": {},
   "outputs": [
    {
     "name": "stderr",
     "output_type": "stream",
     "text": [
      "Batches: 100%|██████████| 4/4 [00:00<00:00, 12.03it/s]\n"
     ]
    },
    {
     "name": "stdout",
     "output_type": "stream",
     "text": [
      "User Query:\n"
     ]
    },
    {
     "data": {
      "text/markdown": [
       "**How many goals did Harry Kane score from gameweek 7 to 11? From what field zones did he score these goals?**"
      ],
      "text/plain": [
       "<IPython.core.display.Markdown object>"
      ]
     },
     "metadata": {},
     "output_type": "display_data"
    },
    {
     "name": "stdout",
     "output_type": "stream",
     "text": [
      "Generated Response:\n"
     ]
    },
    {
     "data": {
      "text/markdown": [
       "Harry Kane scored a total of 5 goals from gameweek 7 to 11. The field zones from which he scored these goals are:\n",
       "\n",
       "1. Game Week 7: Field zone 12\n",
       "2. Game Week 9: Field zone 9\n",
       "3. Game Week 9: Field zone 12\n",
       "4. Game Week 11: Field zone 12\n",
       "5. Game Week 11: Field zone 12"
      ],
      "text/plain": [
       "<IPython.core.display.Markdown object>"
      ]
     },
     "metadata": {},
     "output_type": "display_data"
    }
   ],
   "source": [
    "from IPython.display import Markdown, display\n",
    "\n",
    "query = \"How many goals did Harry Kane score from gameweek 7 to 11? From what field zones did he score these goals?\"\n",
    "# Answer the query\n",
    "response = rag.answer_query(query, top_k=top_k)\n",
    "print(\"User Query:\")\n",
    "display(Markdown(f\"**{query}**\"))\n",
    "print(\"Generated Response:\")\n",
    "display(Markdown(response))"
   ]
  }
 ],
 "metadata": {
  "kernelspec": {
   "display_name": "wa-event-data",
   "language": "python",
   "name": "python3"
  },
  "language_info": {
   "codemirror_mode": {
    "name": "ipython",
    "version": 3
   },
   "file_extension": ".py",
   "mimetype": "text/x-python",
   "name": "python",
   "nbconvert_exporter": "python",
   "pygments_lexer": "ipython3",
   "version": "3.11.11"
  }
 },
 "nbformat": 4,
 "nbformat_minor": 2
}
