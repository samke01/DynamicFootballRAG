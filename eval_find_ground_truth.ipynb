{
 "cells": [
  {
   "cell_type": "code",
   "execution_count": 1,
   "metadata": {},
   "outputs": [],
   "source": [
    "import pandas as pd\n",
    "import numpy as np\n",
    "import os\n",
    "import ast"
   ]
  },
  {
   "cell_type": "code",
   "execution_count": 2,
   "metadata": {},
   "outputs": [
    {
     "name": "stderr",
     "output_type": "stream",
     "text": [
      "C:\\Users\\samue\\AppData\\Local\\Temp\\ipykernel_5872\\726313840.py:1: DtypeWarning: Columns (37,38,39,41,45) have mixed types. Specify dtype option on import or set low_memory=False.\n",
      "  event_df = pd.read_csv('data/all_events.csv')\n"
     ]
    }
   ],
   "source": [
    "event_df = pd.read_csv('data/all_events.csv')\n",
    "player_df = pd.read_csv('data/all_players.csv')"
   ]
  },
  {
   "cell_type": "code",
   "execution_count": 3,
   "metadata": {},
   "outputs": [],
   "source": [
    "event_df = event_df[event_df['gameweek'].isin([7, 8, 9, 10, 11])]"
   ]
  },
  {
   "cell_type": "code",
   "execution_count": 4,
   "metadata": {},
   "outputs": [],
   "source": [
    "from helpers.data_handlers import map_coordinates_to_18_zones\n",
    "\n",
    "field_zones = [map_coordinates_to_18_zones(x, y) for x, y in zip(event_df['x'], event_df['y'])]\n",
    "end_zone = [map_coordinates_to_18_zones(x, y) for x, y in zip(event_df['endX'], event_df['endY'])]\n",
    "# add zones to the dataframe\n",
    "event_df['field_zone'] = field_zones\n",
    "event_df['end_zone'] = end_zone"
   ]
  },
  {
   "cell_type": "code",
   "execution_count": 5,
   "metadata": {},
   "outputs": [
    {
     "data": {
      "text/plain": [
       "Index(['id', 'eventId', 'minute', 'second', 'teamId', 'x', 'y',\n",
       "       'expandedMinute', 'period', 'type', 'outcomeType', 'qualifiers',\n",
       "       'satisfiedEventsTypes', 'isTouch', 'playerId', 'endX', 'endY',\n",
       "       'relatedEventId', 'relatedPlayerId', 'blockedX', 'blockedY',\n",
       "       'goalMouthZ', 'goalMouthY', 'isShot', 'isGoal_x', 'cardType_x',\n",
       "       'isGoal_y', 'cardType_y', 'x1_bin_xT', 'y1_bin_xT', 'x2_bin_xT',\n",
       "       'y2_bin_xT', 'start_zone_value_xT', 'end_zone_value_xT', 'xT',\n",
       "       'teamName', 'shirtNo', 'name', 'position', 'isFirstEleven', 'pro',\n",
       "       'shortName', 'matchScore', 'simplified_qualifiers', 'gameweek',\n",
       "       'isOwnGoal_x', 'isOwnGoal_y', 'field_zone', 'end_zone'],\n",
       "      dtype='object')"
      ]
     },
     "execution_count": 5,
     "metadata": {},
     "output_type": "execute_result"
    }
   ],
   "source": [
    "event_df.columns"
   ]
  },
  {
   "cell_type": "code",
   "execution_count": 6,
   "metadata": {},
   "outputs": [],
   "source": [
    "# add player names from player_df to event_df\n",
    "player_names = [player_df[player_df['playerId'] == player_id]['name'].values for player_id in event_df['playerId']]\n",
    "player_names = [name[0] if len(name) > 0 else 'Unknown' for name in player_names]\n",
    "event_df['playerName'] = player_names\n",
    "event_df['simplified_qualifiers'] = [ast.literal_eval(qual) for qual in event_df['simplified_qualifiers'].values]"
   ]
  },
  {
   "cell_type": "code",
   "execution_count": 7,
   "metadata": {},
   "outputs": [],
   "source": [
    "event_7 = event_df[event_df['gameweek'] == 7]\n",
    "event_8 = event_df[event_df['gameweek'] == 8]\n",
    "event_9 = event_df[event_df['gameweek'] == 9]\n",
    "event_10 = event_df[event_df['gameweek'] == 10]\n",
    "event_11 = event_df[event_df['gameweek'] == 11]"
   ]
  },
  {
   "cell_type": "code",
   "execution_count": 8,
   "metadata": {},
   "outputs": [
    {
     "data": {
      "text/html": [
       "<div>\n",
       "<style scoped>\n",
       "    .dataframe tbody tr th:only-of-type {\n",
       "        vertical-align: middle;\n",
       "    }\n",
       "\n",
       "    .dataframe tbody tr th {\n",
       "        vertical-align: top;\n",
       "    }\n",
       "\n",
       "    .dataframe thead th {\n",
       "        text-align: right;\n",
       "    }\n",
       "</style>\n",
       "<table border=\"1\" class=\"dataframe\">\n",
       "  <thead>\n",
       "    <tr style=\"text-align: right;\">\n",
       "      <th></th>\n",
       "      <th>id</th>\n",
       "      <th>eventId</th>\n",
       "      <th>minute</th>\n",
       "      <th>second</th>\n",
       "      <th>teamId</th>\n",
       "      <th>x</th>\n",
       "      <th>y</th>\n",
       "      <th>expandedMinute</th>\n",
       "      <th>period</th>\n",
       "      <th>type</th>\n",
       "      <th>...</th>\n",
       "      <th>pro</th>\n",
       "      <th>shortName</th>\n",
       "      <th>matchScore</th>\n",
       "      <th>simplified_qualifiers</th>\n",
       "      <th>gameweek</th>\n",
       "      <th>isOwnGoal_x</th>\n",
       "      <th>isOwnGoal_y</th>\n",
       "      <th>field_zone</th>\n",
       "      <th>end_zone</th>\n",
       "      <th>playerName</th>\n",
       "    </tr>\n",
       "  </thead>\n",
       "  <tbody>\n",
       "    <tr>\n",
       "      <th>87057</th>\n",
       "      <td>2.601095e+09</td>\n",
       "      <td>2</td>\n",
       "      <td>0</td>\n",
       "      <td>0.0</td>\n",
       "      <td>1147</td>\n",
       "      <td>0.0</td>\n",
       "      <td>0.0</td>\n",
       "      <td>0.0</td>\n",
       "      <td>FirstHalf</td>\n",
       "      <td>Start</td>\n",
       "      <td>...</td>\n",
       "      <td>0.000000</td>\n",
       "      <td>NaN</td>\n",
       "      <td>{'1147': 0, '1730': 0}</td>\n",
       "      <td>{'displayNames': [], 'values': []}</td>\n",
       "      <td>7</td>\n",
       "      <td>NaN</td>\n",
       "      <td>NaN</td>\n",
       "      <td>Out of Play</td>\n",
       "      <td>Out of Play</td>\n",
       "      <td>Unknown</td>\n",
       "    </tr>\n",
       "    <tr>\n",
       "      <th>87058</th>\n",
       "      <td>2.601095e+09</td>\n",
       "      <td>2</td>\n",
       "      <td>0</td>\n",
       "      <td>0.0</td>\n",
       "      <td>1730</td>\n",
       "      <td>0.0</td>\n",
       "      <td>0.0</td>\n",
       "      <td>0.0</td>\n",
       "      <td>FirstHalf</td>\n",
       "      <td>Start</td>\n",
       "      <td>...</td>\n",
       "      <td>0.000000</td>\n",
       "      <td>NaN</td>\n",
       "      <td>{'1147': 0, '1730': 0}</td>\n",
       "      <td>{'displayNames': [], 'values': []}</td>\n",
       "      <td>7</td>\n",
       "      <td>NaN</td>\n",
       "      <td>NaN</td>\n",
       "      <td>Out of Play</td>\n",
       "      <td>Out of Play</td>\n",
       "      <td>Unknown</td>\n",
       "    </tr>\n",
       "    <tr>\n",
       "      <th>87059</th>\n",
       "      <td>2.601095e+09</td>\n",
       "      <td>3</td>\n",
       "      <td>0</td>\n",
       "      <td>0.0</td>\n",
       "      <td>1730</td>\n",
       "      <td>50.0</td>\n",
       "      <td>50.0</td>\n",
       "      <td>0.0</td>\n",
       "      <td>FirstHalf</td>\n",
       "      <td>Pass</td>\n",
       "      <td>...</td>\n",
       "      <td>-20.190572</td>\n",
       "      <td>NaN</td>\n",
       "      <td>{'1147': 0, '1730': 0}</td>\n",
       "      <td>{'displayNames': ['Zone', 'Length', 'PassEndY'...</td>\n",
       "      <td>7</td>\n",
       "      <td>NaN</td>\n",
       "      <td>NaN</td>\n",
       "      <td>Field Zone 9</td>\n",
       "      <td>Field Zone 8</td>\n",
       "      <td>Tim Breithaupt</td>\n",
       "    </tr>\n",
       "    <tr>\n",
       "      <th>87060</th>\n",
       "      <td>2.601095e+09</td>\n",
       "      <td>4</td>\n",
       "      <td>0</td>\n",
       "      <td>6.0</td>\n",
       "      <td>1730</td>\n",
       "      <td>34.3</td>\n",
       "      <td>56.6</td>\n",
       "      <td>0.0</td>\n",
       "      <td>FirstHalf</td>\n",
       "      <td>Pass</td>\n",
       "      <td>...</td>\n",
       "      <td>0.000000</td>\n",
       "      <td>NaN</td>\n",
       "      <td>{'1147': 0, '1730': 0}</td>\n",
       "      <td>{'displayNames': ['Length', 'StandingSave', 'P...</td>\n",
       "      <td>7</td>\n",
       "      <td>NaN</td>\n",
       "      <td>NaN</td>\n",
       "      <td>Field Zone 9</td>\n",
       "      <td>Field Zone 18</td>\n",
       "      <td>Jeffrey Gouweleeuw</td>\n",
       "    </tr>\n",
       "    <tr>\n",
       "      <th>87061</th>\n",
       "      <td>2.601096e+09</td>\n",
       "      <td>4</td>\n",
       "      <td>0</td>\n",
       "      <td>28.0</td>\n",
       "      <td>1147</td>\n",
       "      <td>4.7</td>\n",
       "      <td>50.0</td>\n",
       "      <td>0.0</td>\n",
       "      <td>FirstHalf</td>\n",
       "      <td>Pass</td>\n",
       "      <td>...</td>\n",
       "      <td>0.000000</td>\n",
       "      <td>NaN</td>\n",
       "      <td>{'1147': 0, '1730': 0}</td>\n",
       "      <td>{'displayNames': ['PassEndX', 'Length', 'Angle...</td>\n",
       "      <td>7</td>\n",
       "      <td>NaN</td>\n",
       "      <td>NaN</td>\n",
       "      <td>Field Zone 7</td>\n",
       "      <td>Field Zone 1</td>\n",
       "      <td>Marcel Schuhen</td>\n",
       "    </tr>\n",
       "  </tbody>\n",
       "</table>\n",
       "<p>5 rows × 50 columns</p>\n",
       "</div>"
      ],
      "text/plain": [
       "                 id  eventId  minute  second  teamId     x     y  \\\n",
       "87057  2.601095e+09        2       0     0.0    1147   0.0   0.0   \n",
       "87058  2.601095e+09        2       0     0.0    1730   0.0   0.0   \n",
       "87059  2.601095e+09        3       0     0.0    1730  50.0  50.0   \n",
       "87060  2.601095e+09        4       0     6.0    1730  34.3  56.6   \n",
       "87061  2.601096e+09        4       0    28.0    1147   4.7  50.0   \n",
       "\n",
       "       expandedMinute     period   type  ...        pro shortName  \\\n",
       "87057             0.0  FirstHalf  Start  ...   0.000000       NaN   \n",
       "87058             0.0  FirstHalf  Start  ...   0.000000       NaN   \n",
       "87059             0.0  FirstHalf   Pass  ... -20.190572       NaN   \n",
       "87060             0.0  FirstHalf   Pass  ...   0.000000       NaN   \n",
       "87061             0.0  FirstHalf   Pass  ...   0.000000       NaN   \n",
       "\n",
       "                   matchScore  \\\n",
       "87057  {'1147': 0, '1730': 0}   \n",
       "87058  {'1147': 0, '1730': 0}   \n",
       "87059  {'1147': 0, '1730': 0}   \n",
       "87060  {'1147': 0, '1730': 0}   \n",
       "87061  {'1147': 0, '1730': 0}   \n",
       "\n",
       "                                   simplified_qualifiers  gameweek  \\\n",
       "87057                 {'displayNames': [], 'values': []}         7   \n",
       "87058                 {'displayNames': [], 'values': []}         7   \n",
       "87059  {'displayNames': ['Zone', 'Length', 'PassEndY'...         7   \n",
       "87060  {'displayNames': ['Length', 'StandingSave', 'P...         7   \n",
       "87061  {'displayNames': ['PassEndX', 'Length', 'Angle...         7   \n",
       "\n",
       "       isOwnGoal_x  isOwnGoal_y    field_zone       end_zone  \\\n",
       "87057          NaN          NaN   Out of Play    Out of Play   \n",
       "87058          NaN          NaN   Out of Play    Out of Play   \n",
       "87059          NaN          NaN  Field Zone 9   Field Zone 8   \n",
       "87060          NaN          NaN  Field Zone 9  Field Zone 18   \n",
       "87061          NaN          NaN  Field Zone 7   Field Zone 1   \n",
       "\n",
       "               playerName  \n",
       "87057             Unknown  \n",
       "87058             Unknown  \n",
       "87059      Tim Breithaupt  \n",
       "87060  Jeffrey Gouweleeuw  \n",
       "87061      Marcel Schuhen  \n",
       "\n",
       "[5 rows x 50 columns]"
      ]
     },
     "execution_count": 8,
     "metadata": {},
     "output_type": "execute_result"
    }
   ],
   "source": [
    "event_df.head()"
   ]
  },
  {
   "cell_type": "code",
   "execution_count": 9,
   "metadata": {},
   "outputs": [],
   "source": [
    "# remove irrelevant columns\n",
    "irrelevant_columns = ['x1_bin_xT', 'y1_bin_xT', 'x2_bin_xT',\n",
    "                    'y2_bin_xT', 'start_zone_value_xT', 'end_zone_value_xT', 'xT', 'satisfiedEventsTypes', 'isTouch', 'isOwnGoal_x', 'isOwnGoal_y']\n",
    "\n",
    "event_df.drop(columns=irrelevant_columns, inplace=True)"
   ]
  },
  {
   "cell_type": "code",
   "execution_count": 10,
   "metadata": {},
   "outputs": [],
   "source": [
    "all_goals = event_df[event_df['type'] == \"Goal\"]\n",
    "all_passes = event_df[event_df['type'] == \"Pass\"]"
   ]
  },
  {
   "cell_type": "markdown",
   "metadata": {},
   "source": [
    "From what field zone where the most goals scored during Gameweeks 7 to 11? How many of them were Penalties?"
   ]
  },
  {
   "cell_type": "code",
   "execution_count": 11,
   "metadata": {},
   "outputs": [
    {
     "data": {
      "text/plain": [
       "field_zone\n",
       "Field Zone 12    126\n",
       "Field Zone 11     15\n",
       "Field Zone 18      5\n",
       "Field Zone 6       5\n",
       "Field Zone 5       4\n",
       "Field Zone 7       4\n",
       "Field Zone 17      3\n",
       "Field Zone 9       1\n",
       "Field Zone 10      1\n",
       "Field Zone 4       1\n",
       "Name: count, dtype: int64"
      ]
     },
     "execution_count": 11,
     "metadata": {},
     "output_type": "execute_result"
    }
   ],
   "source": [
    "all_goals['field_zone'].value_counts()"
   ]
  },
  {
   "cell_type": "code",
   "execution_count": 12,
   "metadata": {},
   "outputs": [
    {
     "data": {
      "text/plain": [
       "18"
      ]
     },
     "execution_count": 12,
     "metadata": {},
     "output_type": "execute_result"
    }
   ],
   "source": [
    "from helpers.find_truth import find_events_with_qualifier\n",
    "\n",
    "penalty = find_events_with_qualifier(all_goals['simplified_qualifiers'], 'Penalty')\n",
    "\n",
    "np.sum(penalty)"
   ]
  },
  {
   "cell_type": "markdown",
   "metadata": {},
   "source": [
    "From what field zone where the most key passes played that led to a goal? Game Week 9"
   ]
  },
  {
   "cell_type": "code",
   "execution_count": 13,
   "metadata": {},
   "outputs": [],
   "source": [
    "from helpers.find_truth import find_event_sequence\n",
    "\n",
    "# pass -> goal\n",
    "# after a pass event check if there was a goal\n",
    "\n",
    "assists_9 = find_event_sequence(event_9, 'Pass', 'Goal')"
   ]
  },
  {
   "cell_type": "code",
   "execution_count": 14,
   "metadata": {},
   "outputs": [
    {
     "data": {
      "text/plain": [
       "field_zone\n",
       "Field Zone 11    8\n",
       "Field Zone 6     3\n",
       "Field Zone 18    3\n",
       "Field Zone 17    2\n",
       "Field Zone 12    2\n",
       "Field Zone 4     1\n",
       "Field Zone 2     1\n",
       "Field Zone 5     1\n",
       "Field Zone 3     1\n",
       "Name: count, dtype: int64"
      ]
     },
     "execution_count": 14,
     "metadata": {},
     "output_type": "execute_result"
    }
   ],
   "source": [
    "assists_9['field_zone'].value_counts()"
   ]
  },
  {
   "cell_type": "markdown",
   "metadata": {},
   "source": [
    "Which player made the most passes that directly contributet to a goal? Game Week 7-11"
   ]
  },
  {
   "cell_type": "code",
   "execution_count": 15,
   "metadata": {},
   "outputs": [],
   "source": [
    "# pass -> goal\n",
    "# after a pass event check if there was a goal\n",
    "\n",
    "all_assists = find_event_sequence(event_df, 'Pass', 'Goal')"
   ]
  },
  {
   "cell_type": "code",
   "execution_count": 16,
   "metadata": {},
   "outputs": [
    {
     "data": {
      "text/plain": [
       "playerName        playerId\n",
       "Leroy Sané        144711.0    6\n",
       "Fredrik Jensen    322087.0    3\n",
       "Xavi Simons       399772.0    3\n",
       "Victor Boniface   384000.0    3\n",
       "Thomas Müller     37099.0     3\n",
       "                             ..\n",
       "Jeremie Frimpong  392644.0    1\n",
       "Joe Scally        363069.0    1\n",
       "Julian Ryerson    320436.0    1\n",
       "Karim Adeyemi     392646.0    1\n",
       "Álex Grimaldo     107252.0    1\n",
       "Name: count, Length: 63, dtype: int64"
      ]
     },
     "execution_count": 16,
     "metadata": {},
     "output_type": "execute_result"
    }
   ],
   "source": [
    "all_assists[[\"playerName\", \"playerId\"]].value_counts()"
   ]
  },
  {
   "cell_type": "markdown",
   "metadata": {},
   "source": [
    "From what field zone did Marvin Ducksch score his freekick against Wolfsburg in Gameweek 10?"
   ]
  },
  {
   "cell_type": "code",
   "execution_count": 17,
   "metadata": {},
   "outputs": [
    {
     "data": {
      "text/html": [
       "<div>\n",
       "<style scoped>\n",
       "    .dataframe tbody tr th:only-of-type {\n",
       "        vertical-align: middle;\n",
       "    }\n",
       "\n",
       "    .dataframe tbody tr th {\n",
       "        vertical-align: top;\n",
       "    }\n",
       "\n",
       "    .dataframe thead th {\n",
       "        text-align: right;\n",
       "    }\n",
       "</style>\n",
       "<table border=\"1\" class=\"dataframe\">\n",
       "  <thead>\n",
       "    <tr style=\"text-align: right;\">\n",
       "      <th></th>\n",
       "      <th>id</th>\n",
       "      <th>eventId</th>\n",
       "      <th>minute</th>\n",
       "      <th>second</th>\n",
       "      <th>teamId</th>\n",
       "      <th>x</th>\n",
       "      <th>y</th>\n",
       "      <th>expandedMinute</th>\n",
       "      <th>period</th>\n",
       "      <th>type</th>\n",
       "      <th>...</th>\n",
       "      <th>pro</th>\n",
       "      <th>shortName</th>\n",
       "      <th>matchScore</th>\n",
       "      <th>simplified_qualifiers</th>\n",
       "      <th>gameweek</th>\n",
       "      <th>isOwnGoal_x</th>\n",
       "      <th>isOwnGoal_y</th>\n",
       "      <th>field_zone</th>\n",
       "      <th>end_zone</th>\n",
       "      <th>playerName</th>\n",
       "    </tr>\n",
       "  </thead>\n",
       "  <tbody>\n",
       "    <tr>\n",
       "      <th>144283</th>\n",
       "      <td>2.613808e+09</td>\n",
       "      <td>42</td>\n",
       "      <td>6</td>\n",
       "      <td>31.0</td>\n",
       "      <td>42</td>\n",
       "      <td>76.1</td>\n",
       "      <td>49.0</td>\n",
       "      <td>6.0</td>\n",
       "      <td>FirstHalf</td>\n",
       "      <td>Goal</td>\n",
       "      <td>...</td>\n",
       "      <td>0.0</td>\n",
       "      <td>NaN</td>\n",
       "      <td>{'42': 1, '33': 0}</td>\n",
       "      <td>{'displayNames': ['RightFoot', 'DirectFreekick...</td>\n",
       "      <td>10</td>\n",
       "      <td>NaN</td>\n",
       "      <td>NaN</td>\n",
       "      <td>Field Zone 11</td>\n",
       "      <td>Out of Play</td>\n",
       "      <td>Marvin Ducksch</td>\n",
       "    </tr>\n",
       "  </tbody>\n",
       "</table>\n",
       "<p>1 rows × 50 columns</p>\n",
       "</div>"
      ],
      "text/plain": [
       "                  id  eventId  minute  second  teamId     x     y  \\\n",
       "144283  2.613808e+09       42       6    31.0      42  76.1  49.0   \n",
       "\n",
       "        expandedMinute     period  type  ...  pro shortName  \\\n",
       "144283             6.0  FirstHalf  Goal  ...  0.0       NaN   \n",
       "\n",
       "                matchScore                              simplified_qualifiers  \\\n",
       "144283  {'42': 1, '33': 0}  {'displayNames': ['RightFoot', 'DirectFreekick...   \n",
       "\n",
       "        gameweek  isOwnGoal_x  isOwnGoal_y     field_zone     end_zone  \\\n",
       "144283        10          NaN          NaN  Field Zone 11  Out of Play   \n",
       "\n",
       "            playerName  \n",
       "144283  Marvin Ducksch  \n",
       "\n",
       "[1 rows x 50 columns]"
      ]
     },
     "execution_count": 17,
     "metadata": {},
     "output_type": "execute_result"
    }
   ],
   "source": [
    "event_10[(event_10['type'] == \"Goal\") * (event_10['playerName'] == \"Marvin Ducksch\")]"
   ]
  },
  {
   "cell_type": "markdown",
   "metadata": {},
   "source": [
    "Which player made the most passes that led to an Offside in Gameweek 7?"
   ]
  },
  {
   "cell_type": "code",
   "execution_count": 18,
   "metadata": {},
   "outputs": [],
   "source": [
    "offside_pass_7 = event_7[(event_7['type'] == \"OffsidePass\") * (event_7['teamId'] == 37)]   "
   ]
  },
  {
   "cell_type": "code",
   "execution_count": 19,
   "metadata": {},
   "outputs": [
    {
     "data": {
      "text/html": [
       "<div>\n",
       "<style scoped>\n",
       "    .dataframe tbody tr th:only-of-type {\n",
       "        vertical-align: middle;\n",
       "    }\n",
       "\n",
       "    .dataframe tbody tr th {\n",
       "        vertical-align: top;\n",
       "    }\n",
       "\n",
       "    .dataframe thead th {\n",
       "        text-align: right;\n",
       "    }\n",
       "</style>\n",
       "<table border=\"1\" class=\"dataframe\">\n",
       "  <thead>\n",
       "    <tr style=\"text-align: right;\">\n",
       "      <th></th>\n",
       "      <th>id</th>\n",
       "      <th>eventId</th>\n",
       "      <th>minute</th>\n",
       "      <th>second</th>\n",
       "      <th>teamId</th>\n",
       "      <th>x</th>\n",
       "      <th>y</th>\n",
       "      <th>expandedMinute</th>\n",
       "      <th>period</th>\n",
       "      <th>type</th>\n",
       "      <th>...</th>\n",
       "      <th>pro</th>\n",
       "      <th>shortName</th>\n",
       "      <th>matchScore</th>\n",
       "      <th>simplified_qualifiers</th>\n",
       "      <th>gameweek</th>\n",
       "      <th>isOwnGoal_x</th>\n",
       "      <th>isOwnGoal_y</th>\n",
       "      <th>field_zone</th>\n",
       "      <th>end_zone</th>\n",
       "      <th>playerName</th>\n",
       "    </tr>\n",
       "  </thead>\n",
       "  <tbody>\n",
       "    <tr>\n",
       "      <th>89305</th>\n",
       "      <td>2.602339e+09</td>\n",
       "      <td>515</td>\n",
       "      <td>42</td>\n",
       "      <td>56.0</td>\n",
       "      <td>37</td>\n",
       "      <td>69.1</td>\n",
       "      <td>13.1</td>\n",
       "      <td>42.0</td>\n",
       "      <td>FirstHalf</td>\n",
       "      <td>OffsidePass</td>\n",
       "      <td>...</td>\n",
       "      <td>0.0</td>\n",
       "      <td>NaN</td>\n",
       "      <td>{'37': 2, '50': 0}</td>\n",
       "      <td>{'displayNames': ['Zone', 'PassEndX', 'GoalDis...</td>\n",
       "      <td>7</td>\n",
       "      <td>NaN</td>\n",
       "      <td>NaN</td>\n",
       "      <td>Field Zone 5</td>\n",
       "      <td>Field Zone 5</td>\n",
       "      <td>Kingsley Coman</td>\n",
       "    </tr>\n",
       "    <tr>\n",
       "      <th>89975</th>\n",
       "      <td>2.602398e+09</td>\n",
       "      <td>980</td>\n",
       "      <td>76</td>\n",
       "      <td>6.0</td>\n",
       "      <td>37</td>\n",
       "      <td>93.8</td>\n",
       "      <td>45.1</td>\n",
       "      <td>80.0</td>\n",
       "      <td>SecondHalf</td>\n",
       "      <td>OffsidePass</td>\n",
       "      <td>...</td>\n",
       "      <td>0.0</td>\n",
       "      <td>NaN</td>\n",
       "      <td>{'37': 2, '50': 0}</td>\n",
       "      <td>{'displayNames': ['Zone', 'GoalDisallowed', 'P...</td>\n",
       "      <td>7</td>\n",
       "      <td>NaN</td>\n",
       "      <td>NaN</td>\n",
       "      <td>Field Zone 12</td>\n",
       "      <td>Field Zone 12</td>\n",
       "      <td>Kingsley Coman</td>\n",
       "    </tr>\n",
       "    <tr>\n",
       "      <th>90047</th>\n",
       "      <td>2.602403e+09</td>\n",
       "      <td>1026</td>\n",
       "      <td>80</td>\n",
       "      <td>24.0</td>\n",
       "      <td>37</td>\n",
       "      <td>37.5</td>\n",
       "      <td>38.6</td>\n",
       "      <td>84.0</td>\n",
       "      <td>SecondHalf</td>\n",
       "      <td>OffsidePass</td>\n",
       "      <td>...</td>\n",
       "      <td>0.0</td>\n",
       "      <td>NaN</td>\n",
       "      <td>{'37': 2, '50': 0}</td>\n",
       "      <td>{'displayNames': ['PlayerCaughtOffside', 'Pass...</td>\n",
       "      <td>7</td>\n",
       "      <td>NaN</td>\n",
       "      <td>NaN</td>\n",
       "      <td>Field Zone 9</td>\n",
       "      <td>Field Zone 10</td>\n",
       "      <td>Noussair Mazraoui</td>\n",
       "    </tr>\n",
       "  </tbody>\n",
       "</table>\n",
       "<p>3 rows × 50 columns</p>\n",
       "</div>"
      ],
      "text/plain": [
       "                 id  eventId  minute  second  teamId     x     y  \\\n",
       "89305  2.602339e+09      515      42    56.0      37  69.1  13.1   \n",
       "89975  2.602398e+09      980      76     6.0      37  93.8  45.1   \n",
       "90047  2.602403e+09     1026      80    24.0      37  37.5  38.6   \n",
       "\n",
       "       expandedMinute      period         type  ...  pro shortName  \\\n",
       "89305            42.0   FirstHalf  OffsidePass  ...  0.0       NaN   \n",
       "89975            80.0  SecondHalf  OffsidePass  ...  0.0       NaN   \n",
       "90047            84.0  SecondHalf  OffsidePass  ...  0.0       NaN   \n",
       "\n",
       "               matchScore                              simplified_qualifiers  \\\n",
       "89305  {'37': 2, '50': 0}  {'displayNames': ['Zone', 'PassEndX', 'GoalDis...   \n",
       "89975  {'37': 2, '50': 0}  {'displayNames': ['Zone', 'GoalDisallowed', 'P...   \n",
       "90047  {'37': 2, '50': 0}  {'displayNames': ['PlayerCaughtOffside', 'Pass...   \n",
       "\n",
       "       gameweek  isOwnGoal_x  isOwnGoal_y     field_zone       end_zone  \\\n",
       "89305         7          NaN          NaN   Field Zone 5   Field Zone 5   \n",
       "89975         7          NaN          NaN  Field Zone 12  Field Zone 12   \n",
       "90047         7          NaN          NaN   Field Zone 9  Field Zone 10   \n",
       "\n",
       "              playerName  \n",
       "89305     Kingsley Coman  \n",
       "89975     Kingsley Coman  \n",
       "90047  Noussair Mazraoui  \n",
       "\n",
       "[3 rows x 50 columns]"
      ]
     },
     "execution_count": 19,
     "metadata": {},
     "output_type": "execute_result"
    }
   ],
   "source": [
    "offside_pass_7"
   ]
  },
  {
   "cell_type": "markdown",
   "metadata": {},
   "source": [
    "From what field zone did Eintracht Frankfurt score the most Right Foot goals during Game Week 7 to 11?"
   ]
  },
  {
   "cell_type": "code",
   "execution_count": 20,
   "metadata": {},
   "outputs": [],
   "source": [
    "rightfoot_filter = find_events_with_qualifier(all_goals['simplified_qualifiers'], 'RightFoot')"
   ]
  },
  {
   "cell_type": "code",
   "execution_count": 21,
   "metadata": {},
   "outputs": [],
   "source": [
    "answer = all_goals[rightfoot_filter * (all_goals['teamId'] == 45)]['field_zone'].value_counts()"
   ]
  },
  {
   "cell_type": "markdown",
   "metadata": {},
   "source": [
    "From what field zone did Bayern Munich score the most Left Foot goals scored during Gameweek 7 to 11?"
   ]
  },
  {
   "cell_type": "code",
   "execution_count": 23,
   "metadata": {},
   "outputs": [],
   "source": [
    "leftfoot_filter = find_events_with_qualifier(all_goals['simplified_qualifiers'], 'LeftFoot')"
   ]
  },
  {
   "cell_type": "code",
   "execution_count": 24,
   "metadata": {},
   "outputs": [],
   "source": [
    "answer = all_goals[leftfoot_filter * (all_goals['teamId'] == 37)]['field_zone'].value_counts()"
   ]
  },
  {
   "cell_type": "markdown",
   "metadata": {},
   "source": [
    "What player made the most successfull passes into fieldzone 12 during Game Weeks 7 to 11?"
   ]
  },
  {
   "cell_type": "code",
   "execution_count": 26,
   "metadata": {},
   "outputs": [],
   "source": [
    "end_12 = all_passes[(all_passes['end_zone'] == \"Field Zone 12\") * (all_passes['outcomeType'] == \"Successful\")]"
   ]
  },
  {
   "cell_type": "code",
   "execution_count": 42,
   "metadata": {},
   "outputs": [
    {
     "data": {
      "text/plain": [
       "playerName\n",
       "Leroy Sané             23\n",
       "Franck Honorat         16\n",
       "Jonas Hofmann          16\n",
       "Jan-Niklas Beste       15\n",
       "Kevin Stöger           11\n",
       "Leart Paqarada         10\n",
       "Fredrik Jensen         10\n",
       "Christopher Trimmel    10\n",
       "Vincenzo Grifo         10\n",
       "Tobias Kempe           10\n",
       "Name: count, dtype: int64"
      ]
     },
     "execution_count": 42,
     "metadata": {},
     "output_type": "execute_result"
    }
   ],
   "source": [
    "end_12['playerName'].value_counts()[:10]"
   ]
  },
  {
   "cell_type": "markdown",
   "metadata": {},
   "source": [
    "What teams in good form won against teams in bad form in Game Week 9?"
   ]
  },
  {
   "cell_type": "code",
   "execution_count": 36,
   "metadata": {},
   "outputs": [],
   "source": [
    "league_standings = pd.read_csv('data/Bundesliga/modified/GW7/league_standings.csv')"
   ]
  },
  {
   "cell_type": "markdown",
   "metadata": {},
   "source": [
    "\"In what field zones did Ivan Ordets engage in aerial duels in game week 9?\""
   ]
  },
  {
   "cell_type": "code",
   "execution_count": 39,
   "metadata": {},
   "outputs": [
    {
     "data": {
      "text/html": [
       "<div>\n",
       "<style scoped>\n",
       "    .dataframe tbody tr th:only-of-type {\n",
       "        vertical-align: middle;\n",
       "    }\n",
       "\n",
       "    .dataframe tbody tr th {\n",
       "        vertical-align: top;\n",
       "    }\n",
       "\n",
       "    .dataframe thead th {\n",
       "        text-align: right;\n",
       "    }\n",
       "</style>\n",
       "<table border=\"1\" class=\"dataframe\">\n",
       "  <thead>\n",
       "    <tr style=\"text-align: right;\">\n",
       "      <th></th>\n",
       "      <th>id</th>\n",
       "      <th>eventId</th>\n",
       "      <th>minute</th>\n",
       "      <th>second</th>\n",
       "      <th>teamId</th>\n",
       "      <th>x</th>\n",
       "      <th>y</th>\n",
       "      <th>expandedMinute</th>\n",
       "      <th>period</th>\n",
       "      <th>type</th>\n",
       "      <th>...</th>\n",
       "      <th>pro</th>\n",
       "      <th>shortName</th>\n",
       "      <th>matchScore</th>\n",
       "      <th>simplified_qualifiers</th>\n",
       "      <th>gameweek</th>\n",
       "      <th>isOwnGoal_x</th>\n",
       "      <th>isOwnGoal_y</th>\n",
       "      <th>field_zone</th>\n",
       "      <th>end_zone</th>\n",
       "      <th>playerName</th>\n",
       "    </tr>\n",
       "  </thead>\n",
       "  <tbody>\n",
       "    <tr>\n",
       "      <th>119703</th>\n",
       "      <td>2.609059e+09</td>\n",
       "      <td>5</td>\n",
       "      <td>0</td>\n",
       "      <td>7.0</td>\n",
       "      <td>109</td>\n",
       "      <td>68.3</td>\n",
       "      <td>34.6</td>\n",
       "      <td>0.0</td>\n",
       "      <td>FirstHalf</td>\n",
       "      <td>Aerial</td>\n",
       "      <td>...</td>\n",
       "      <td>0.0</td>\n",
       "      <td>NaN</td>\n",
       "      <td>{'109': 0, '219': 0}</td>\n",
       "      <td>{'displayNames': ['OppositeRelatedEvent', 'Zon...</td>\n",
       "      <td>9</td>\n",
       "      <td>NaN</td>\n",
       "      <td>NaN</td>\n",
       "      <td>Field Zone 11</td>\n",
       "      <td>Out of Play</td>\n",
       "      <td>Ivan Ordets</td>\n",
       "    </tr>\n",
       "    <tr>\n",
       "      <th>119770</th>\n",
       "      <td>2.609064e+09</td>\n",
       "      <td>50</td>\n",
       "      <td>4</td>\n",
       "      <td>17.0</td>\n",
       "      <td>109</td>\n",
       "      <td>49.4</td>\n",
       "      <td>15.2</td>\n",
       "      <td>4.0</td>\n",
       "      <td>FirstHalf</td>\n",
       "      <td>Aerial</td>\n",
       "      <td>...</td>\n",
       "      <td>0.0</td>\n",
       "      <td>NaN</td>\n",
       "      <td>{'109': 0, '219': 0}</td>\n",
       "      <td>{'displayNames': ['Zone', 'OppositeRelatedEven...</td>\n",
       "      <td>9</td>\n",
       "      <td>NaN</td>\n",
       "      <td>NaN</td>\n",
       "      <td>Field Zone 3</td>\n",
       "      <td>Out of Play</td>\n",
       "      <td>Ivan Ordets</td>\n",
       "    </tr>\n",
       "  </tbody>\n",
       "</table>\n",
       "<p>2 rows × 50 columns</p>\n",
       "</div>"
      ],
      "text/plain": [
       "                  id  eventId  minute  second  teamId     x     y  \\\n",
       "119703  2.609059e+09        5       0     7.0     109  68.3  34.6   \n",
       "119770  2.609064e+09       50       4    17.0     109  49.4  15.2   \n",
       "\n",
       "        expandedMinute     period    type  ...  pro shortName  \\\n",
       "119703             0.0  FirstHalf  Aerial  ...  0.0       NaN   \n",
       "119770             4.0  FirstHalf  Aerial  ...  0.0       NaN   \n",
       "\n",
       "                  matchScore  \\\n",
       "119703  {'109': 0, '219': 0}   \n",
       "119770  {'109': 0, '219': 0}   \n",
       "\n",
       "                                    simplified_qualifiers  gameweek  \\\n",
       "119703  {'displayNames': ['OppositeRelatedEvent', 'Zon...         9   \n",
       "119770  {'displayNames': ['Zone', 'OppositeRelatedEven...         9   \n",
       "\n",
       "        isOwnGoal_x  isOwnGoal_y     field_zone     end_zone   playerName  \n",
       "119703          NaN          NaN  Field Zone 11  Out of Play  Ivan Ordets  \n",
       "119770          NaN          NaN   Field Zone 3  Out of Play  Ivan Ordets  \n",
       "\n",
       "[2 rows x 50 columns]"
      ]
     },
     "execution_count": 39,
     "metadata": {},
     "output_type": "execute_result"
    }
   ],
   "source": [
    "event_9[(event_9['type'] == \"Aerial\") * (event_9['playerName'] == \"Ivan Ordets\")]"
   ]
  },
  {
   "cell_type": "markdown",
   "metadata": {},
   "source": [
    "\"From what field zones did Harry Kane score his goals in the game Bayern Munich against Borussia Dortmund in game week 10?\""
   ]
  },
  {
   "cell_type": "code",
   "execution_count": 41,
   "metadata": {},
   "outputs": [
    {
     "data": {
      "text/html": [
       "<div>\n",
       "<style scoped>\n",
       "    .dataframe tbody tr th:only-of-type {\n",
       "        vertical-align: middle;\n",
       "    }\n",
       "\n",
       "    .dataframe tbody tr th {\n",
       "        vertical-align: top;\n",
       "    }\n",
       "\n",
       "    .dataframe thead th {\n",
       "        text-align: right;\n",
       "    }\n",
       "</style>\n",
       "<table border=\"1\" class=\"dataframe\">\n",
       "  <thead>\n",
       "    <tr style=\"text-align: right;\">\n",
       "      <th></th>\n",
       "      <th>id</th>\n",
       "      <th>eventId</th>\n",
       "      <th>minute</th>\n",
       "      <th>second</th>\n",
       "      <th>teamId</th>\n",
       "      <th>x</th>\n",
       "      <th>y</th>\n",
       "      <th>expandedMinute</th>\n",
       "      <th>period</th>\n",
       "      <th>type</th>\n",
       "      <th>...</th>\n",
       "      <th>pro</th>\n",
       "      <th>shortName</th>\n",
       "      <th>matchScore</th>\n",
       "      <th>simplified_qualifiers</th>\n",
       "      <th>gameweek</th>\n",
       "      <th>isOwnGoal_x</th>\n",
       "      <th>isOwnGoal_y</th>\n",
       "      <th>field_zone</th>\n",
       "      <th>end_zone</th>\n",
       "      <th>playerName</th>\n",
       "    </tr>\n",
       "  </thead>\n",
       "  <tbody>\n",
       "    <tr>\n",
       "      <th>131306</th>\n",
       "      <td>2.613132e+09</td>\n",
       "      <td>110</td>\n",
       "      <td>8</td>\n",
       "      <td>18.0</td>\n",
       "      <td>37</td>\n",
       "      <td>95.1</td>\n",
       "      <td>47.6</td>\n",
       "      <td>8.0</td>\n",
       "      <td>FirstHalf</td>\n",
       "      <td>Goal</td>\n",
       "      <td>...</td>\n",
       "      <td>0.0</td>\n",
       "      <td>NaN</td>\n",
       "      <td>{'44': 0, '37': 2}</td>\n",
       "      <td>{'displayNames': ['Assisted', 'IntentionalAssi...</td>\n",
       "      <td>10</td>\n",
       "      <td>NaN</td>\n",
       "      <td>NaN</td>\n",
       "      <td>Field Zone 12</td>\n",
       "      <td>Out of Play</td>\n",
       "      <td>Harry Kane</td>\n",
       "    </tr>\n",
       "    <tr>\n",
       "      <th>132476</th>\n",
       "      <td>2.613219e+09</td>\n",
       "      <td>714</td>\n",
       "      <td>71</td>\n",
       "      <td>41.0</td>\n",
       "      <td>37</td>\n",
       "      <td>90.3</td>\n",
       "      <td>46.8</td>\n",
       "      <td>74.0</td>\n",
       "      <td>SecondHalf</td>\n",
       "      <td>Goal</td>\n",
       "      <td>...</td>\n",
       "      <td>0.0</td>\n",
       "      <td>NaN</td>\n",
       "      <td>{'44': 0, '37': 3}</td>\n",
       "      <td>{'displayNames': ['GoalMouthY', 'BoxCentre', '...</td>\n",
       "      <td>10</td>\n",
       "      <td>NaN</td>\n",
       "      <td>NaN</td>\n",
       "      <td>Field Zone 12</td>\n",
       "      <td>Out of Play</td>\n",
       "      <td>Harry Kane</td>\n",
       "    </tr>\n",
       "    <tr>\n",
       "      <th>132779</th>\n",
       "      <td>2.613242e+09</td>\n",
       "      <td>899</td>\n",
       "      <td>92</td>\n",
       "      <td>6.0</td>\n",
       "      <td>37</td>\n",
       "      <td>83.5</td>\n",
       "      <td>50.2</td>\n",
       "      <td>95.0</td>\n",
       "      <td>SecondHalf</td>\n",
       "      <td>Goal</td>\n",
       "      <td>...</td>\n",
       "      <td>0.0</td>\n",
       "      <td>NaN</td>\n",
       "      <td>{'44': 0, '37': 4}</td>\n",
       "      <td>{'displayNames': ['GoalMouthY', 'Zone', 'Indiv...</td>\n",
       "      <td>10</td>\n",
       "      <td>NaN</td>\n",
       "      <td>NaN</td>\n",
       "      <td>Field Zone 12</td>\n",
       "      <td>Out of Play</td>\n",
       "      <td>Harry Kane</td>\n",
       "    </tr>\n",
       "  </tbody>\n",
       "</table>\n",
       "<p>3 rows × 50 columns</p>\n",
       "</div>"
      ],
      "text/plain": [
       "                  id  eventId  minute  second  teamId     x     y  \\\n",
       "131306  2.613132e+09      110       8    18.0      37  95.1  47.6   \n",
       "132476  2.613219e+09      714      71    41.0      37  90.3  46.8   \n",
       "132779  2.613242e+09      899      92     6.0      37  83.5  50.2   \n",
       "\n",
       "        expandedMinute      period  type  ...  pro shortName  \\\n",
       "131306             8.0   FirstHalf  Goal  ...  0.0       NaN   \n",
       "132476            74.0  SecondHalf  Goal  ...  0.0       NaN   \n",
       "132779            95.0  SecondHalf  Goal  ...  0.0       NaN   \n",
       "\n",
       "                matchScore                              simplified_qualifiers  \\\n",
       "131306  {'44': 0, '37': 2}  {'displayNames': ['Assisted', 'IntentionalAssi...   \n",
       "132476  {'44': 0, '37': 3}  {'displayNames': ['GoalMouthY', 'BoxCentre', '...   \n",
       "132779  {'44': 0, '37': 4}  {'displayNames': ['GoalMouthY', 'Zone', 'Indiv...   \n",
       "\n",
       "        gameweek  isOwnGoal_x  isOwnGoal_y     field_zone     end_zone  \\\n",
       "131306        10          NaN          NaN  Field Zone 12  Out of Play   \n",
       "132476        10          NaN          NaN  Field Zone 12  Out of Play   \n",
       "132779        10          NaN          NaN  Field Zone 12  Out of Play   \n",
       "\n",
       "        playerName  \n",
       "131306  Harry Kane  \n",
       "132476  Harry Kane  \n",
       "132779  Harry Kane  \n",
       "\n",
       "[3 rows x 50 columns]"
      ]
     },
     "execution_count": 41,
     "metadata": {},
     "output_type": "execute_result"
    }
   ],
   "source": [
    "condition = (event_10['type'] == \"Goal\") * (event_10['playerName'] == \"Harry Kane\")\n",
    "event_10[condition]"
   ]
  }
 ],
 "metadata": {
  "kernelspec": {
   "display_name": "wa-event-data",
   "language": "python",
   "name": "python3"
  },
  "language_info": {
   "codemirror_mode": {
    "name": "ipython",
    "version": 3
   },
   "file_extension": ".py",
   "mimetype": "text/x-python",
   "name": "python",
   "nbconvert_exporter": "python",
   "pygments_lexer": "ipython3",
   "version": "3.11.11"
  }
 },
 "nbformat": 4,
 "nbformat_minor": 2
}
